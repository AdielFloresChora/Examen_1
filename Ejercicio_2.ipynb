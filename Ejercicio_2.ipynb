{
  "metadata": {
    "language_info": {
      "codemirror_mode": {
        "name": "python",
        "version": 3
      },
      "file_extension": ".py",
      "mimetype": "text/x-python",
      "name": "python",
      "nbconvert_exporter": "python",
      "pygments_lexer": "ipython3",
      "version": "3.8"
    },
    "kernelspec": {
      "name": "python",
      "display_name": "Python (Pyodide)",
      "language": "python"
    }
  },
  "nbformat_minor": 4,
  "nbformat": 4,
  "cells": [
    {
      "cell_type": "markdown",
      "source": "Ejercicio 2<br>\nSe tiene la variable<br>",
      "metadata": {}
    },
    {
      "cell_type": "code",
      "source": "import numpy as np\nimport random\nimport matplotlib.pyplot as plt\nVenta_de_Periodicos = 0",
      "metadata": {
        "trusted": true
      },
      "execution_count": 3,
      "outputs": []
    },
    {
      "cell_type": "markdown",
      "source": "Se formula la distribución acomulada y los intervalos.",
      "metadata": {}
    },
    {
      "cell_type": "code",
      "source": "x = random.random()\nif 0.0 <= x < 0.20:\n    Venta_de_Periodicos = 30\nelif 0.20 <= x < 0.45:\n    Venta_de_Periodicos = 40\nelif 0.45 <= x < 0.70:\n    Venta_de_Periodicos = 50\nelif 0.70 <= x < 0.90:\n    Venta_de_Periodicos = 60\nelif 0.90 <= x <= 1.00:\n    Venta_de_Periodicos = 70",
      "metadata": {
        "trusted": true
      },
      "execution_count": 4,
      "outputs": []
    },
    {
      "cell_type": "markdown",
      "source": "Se modelan las ventas de un día",
      "metadata": {}
    },
    {
      "cell_type": "raw",
      "source": "Beneficio = 0\nVenta_Real = 0\nVentas_Perdidas = 0\nNo_Vendidos = 0\nsv = Venta_de_Periodicos\n\nif sv > Pedido:\n    Venta_Real = Pedido\n    Ventas_Perdidas = sv - Pedido\n    No_vendidos = 0   \nelse:\n    Venta_Real = sv\n    Ventas_Perdidas = 0\n    No_Vendidos = Pedido - Venta_Real\nVenta_Dia = 1.10*Venta_Real - 0.90*Pedido - 0.10*No_Vendidos - 0.20*Ventas_Perdidas",
      "metadata": {}
    },
    {
      "cell_type": "markdown",
      "source": "Esta simulación se realiza n veces",
      "metadata": {}
    },
    {
      "cell_type": "code",
      "source": "def Beneficio_diario(Pedido):\n\tVenta_de_Periodicos = 0\n\tx = random.random()\n\tif 0.0 <= x < 0.20:\n\t    Venta_de_Periodicos = 30\n\telif 0.20 <= x < 0.45:\n\t    Venta_de_Periodicos = 40\n\telif 0.45 <= x < 0.70:\n\t    Venta_de_Periodicos = 50\n\telif 0.70 <= x < 0.90:\n\t    Venta_de_Periodicos = 60\n\telif 0.90 <= x <= 1.00:\n\t    Venta_de_Periodicos = 70\n\n\tBeneficio = 0\n\tVenta_Real = 0\n\tVentas_Perdidas = 0\n\tNo_Vendidos = 0\n\tsv = Venta_de_Periodicos\n\n\tif sv > Pedido:\n\t    Venta_Real = Pedido\n\t    Ventas_Perdidas = sv - Pedido\n\t    No_vendidos = 0   \n\telse:\n\t    Venta_Real = sv\n\t    Ventas_Perdidas = 0\n\t    No_Vendidos = Pedido - Venta_Real\n\tVenta_Dia = 1.10*Venta_Real - 0.90*Pedido - 0.10*No_Vendidos - 0.20*Ventas_Perdidas\n\treturn Venta_Dia\nBeneficio_diario(50)",
      "metadata": {
        "trusted": true
      },
      "execution_count": 24,
      "outputs": [
        {
          "execution_count": 24,
          "output_type": "execute_result",
          "data": {
            "text/plain": "6.000000000000007"
          },
          "metadata": {}
        }
      ]
    },
    {
      "cell_type": "markdown",
      "source": "Finalmente, se calculan las probabilidades se almacenan en una lista y se gráfica.",
      "metadata": {}
    },
    {
      "cell_type": "code",
      "source": "def Simulacion_Gral(n):\n    L = []\n    Bnficio = 0\n    for i in range(n):\n        Bnficio += Beneficio_diario(50)\n        L.append(Bnficio/(i+1))\n    return L\n\nX = Simulacion_Gral(500)\nplt.plot(X)\nplt.show()",
      "metadata": {
        "trusted": true
      },
      "execution_count": 28,
      "outputs": [
        {
          "output_type": "display_data",
          "data": {
            "text/plain": "<Figure size 640x480 with 1 Axes>",
            "image/png": "[encoded data removed]"
          },
          "metadata": {}
        }
      ]
    },
    {
      "cell_type": "markdown",
      "source": "Se calcula la media y la desviación estandar.",
      "metadata": {}
    },
    {
      "cell_type": "code",
      "source": "def Modelo(n):\n    M = []\n    for i in range(n):\n        M.append(np.mean(Simulacion_Gral(500)))\n    return M\n\nY = Modelo(500)\nmean = np.mean(Y)\nstd = np.std(Y)\nprint(\"Media: {:.3f}, Desviación estándar: {:.3f}\".format(mean, std))",
      "metadata": {
        "trusted": true
      },
      "execution_count": 35,
      "outputs": [
        {
          "name": "stdout",
          "text": "Media: 1.424, Desviación estándar: 0.525\n",
          "output_type": "stream"
        }
      ]
    },
    {
      "cell_type": "markdown",
      "source": "Se halla el intervalo de confianza con un nivel de aceptación del 95%",
      "metadata": {}
    },
    {
      "cell_type": "code",
      "source": "from scipy.stats import norm\n\nalpha = 0.05\nzest = norm.ppf(1-alpha/2)\nprint(mean-(zest*std/(50**(1/2))))\nprint(mean+(zest*std/(50**(1/2))))",
      "metadata": {
        "trusted": true
      },
      "execution_count": 45,
      "outputs": [
        {
          "name": "stdout",
          "text": "1.2784834343880835\n1.5697937441458139\n",
          "output_type": "stream"
        }
      ]
    },
    {
      "cell_type": "markdown",
      "source": "Así, el rango de confianza está entre 1.27 y 1.56",
      "metadata": {}
    },
    {
      "cell_type": "markdown",
      "source": "c) Se calcula el pedido de periodicos que optimiza el beneficio.",
      "metadata": {}
    }
  ]
}